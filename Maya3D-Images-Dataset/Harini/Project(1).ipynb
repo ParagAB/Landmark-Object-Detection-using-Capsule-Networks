{
 "cells": [
  {
   "cell_type": "code",
   "execution_count": 44,
   "metadata": {},
   "outputs": [],
   "source": [
    "from PIL import Image\n",
    "import os, os.path\n",
    "import numpy as np\n",
    "import cv2\n",
    "import pandas as pd\n",
    "import base64"
   ]
  },
  {
   "cell_type": "code",
   "execution_count": 18,
   "metadata": {},
   "outputs": [],
   "source": [
    "def convertToBinaryData(filename):\n",
    "    #Convert digital data to binary format\n",
    "    with open(filename, 'rb') as file:\n",
    "        binaryData = file.read()\n",
    "    return binaryData"
   ]
  },
  {
   "cell_type": "code",
   "execution_count": 53,
   "metadata": {},
   "outputs": [],
   "source": [
    "\n",
    "del df\n",
    "dir = \"C:/Users/harini/Desktop/maya_images/Gorilla/gorilla2/Gorilla\"\n",
    "#dir = \"C:/Users/Rashika/Desktop/DMDD Project/Images\"\n",
    "r = []\n",
    "n=0\n",
    "valid_images = [\".jpg\",\".jpeg\",\".png\"]\n",
    "for root, dirs, files in os.walk(dir):\n",
    "    df= pd.DataFrame(columns = ['Shape', 'Size',\n",
    "                            'Datatype','ObjectName','X','Y','Z','Shadow','Shader','background','blob_image'])                          \n",
    "\n",
    "    for name in files:\n",
    "        ext = os.path.splitext(name)\n",
    "        if ext[1].lower() not in valid_images:\n",
    "            continue\n",
    "        else:\n",
    "            namesplit = ext[0].split('_')\n",
    "            img = cv2.imread(os.path.join(root,name))##entire path of image\n",
    "          ## print(os.path.join(root,name))\n",
    "            i4=name\n",
    "            i1=img.shape\n",
    "            i2=os.path.getsize(os.path.join(root,name))\n",
    "            i3=img.dtype\n",
    "            i5 = namesplit[0]\n",
    "            i6 = namesplit[1]\n",
    "            i7 = namesplit[2]\n",
    "            i8 = namesplit[3]\n",
    "            i9 = namesplit[4]\n",
    "            i10 = namesplit[5]\n",
    "            i11 = namesplit[6]\n",
    "            i12 = namesplit[7]\n",
    "            i13 = namesplit[8]\n",
    "           #print(\"name\",i4)\n",
    "           #print('Image shape is \\n',img.shape)\n",
    "           #print('Image size is \\n', os.path.getsize(os.path.join(root,name)))\n",
    "           #print ('Image datatype is \\n',img.dtype)\n",
    "            df.loc[n, 'Shape'] = i1\n",
    "            df.loc[n, 'Size'] = i2\n",
    "            df.loc[n, 'Datatype'] = i3\n",
    "            df.loc[n,'ObjectName']=i7\n",
    "            df.loc[n,'X']=i8[1:]\n",
    "            df.loc[n,'Y']=i9[1:]\n",
    "            df.loc[n,'Z']=i10[1:]\n",
    "            if (i11 == 'Yes'):\n",
    "                df.loc[n,'Shadow'] = 'sh_01'\n",
    "            else:\n",
    "                df.loc[n,'Shadow'] = 'sh_02'\n",
    "            if (i12 == 'Black'):\n",
    "                df.loc[n,'Shader']= 'sa_01'\n",
    "            else:\n",
    "                df.loc[n,'Shader'] = 'sa_02'\n",
    "            if (i13 == 'Black'):\n",
    "                df.loc[n,'background'] = 'bk_01'\n",
    "            else:\n",
    "                df.loc[n,'background'] = 'bk_02'\n",
    "            fn = 'C:/Users/harini/Desktop/maya_images/Gorilla/gorilla2/Gorilla/{}'.format(name)\n",
    "            j = convertToBinaryData(fn)\n",
    "            k = base64.b64encode(bytes('j', 'utf-8'))\n",
    "            df.loc[n,'blob_image'] = k\n",
    "            n+=1\n",
    "            df\n",
    "df.to_csv(\"C:/Users/harini/Desktop/maya_images/Gorill2.csv\")"
   ]
  }
 ],
 "metadata": {
  "kernelspec": {
   "display_name": "Python 3",
   "language": "python",
   "name": "python3"
  },
  "language_info": {
   "codemirror_mode": {
    "name": "ipython",
    "version": 3
   },
   "file_extension": ".py",
   "mimetype": "text/x-python",
   "name": "python",
   "nbconvert_exporter": "python",
   "pygments_lexer": "ipython3",
   "version": "3.6.5"
  }
 },
 "nbformat": 4,
 "nbformat_minor": 2
}
