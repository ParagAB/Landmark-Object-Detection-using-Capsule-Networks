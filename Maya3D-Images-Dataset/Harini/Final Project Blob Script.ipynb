{
 "cells": [
  {
   "cell_type": "code",
   "execution_count": 15,
   "metadata": {},
   "outputs": [],
   "source": [
    "from PIL import Image\n",
    "import os, os.path\n",
    "import numpy as np\n",
    "import cv2\n",
    "import pandas as pd\n",
    "import base64\n",
    "import re"
   ]
  },
  {
   "cell_type": "code",
   "execution_count": 16,
   "metadata": {},
   "outputs": [],
   "source": [
    "def convertToBinaryData(filename):\n",
    "    #Convert digital data to binary format\n",
    "    with open(filename, 'rb') as file:\n",
    "        binaryData = file.read()\n",
    "    return binaryData"
   ]
  },
  {
   "cell_type": "code",
   "execution_count": null,
   "metadata": {},
   "outputs": [],
   "source": [
    "import sqlite3\n",
    "\n",
    "capsule_image = 'capsule_images.sqlite'\n",
    "conn = sqlite3.connect(congress_db)\n",
    "c = conn.cursor()"
   ]
  },
  {
   "cell_type": "code",
   "execution_count": null,
   "metadata": {},
   "outputs": [],
   "source": [
    "c.execute(\"drop table images;\")\n",
    "c.execute(\"CREATE TABLE images ( image_id varchar(10), image_shape varchar(15), image_size integer(8),image_type varchar(15), X integer(3),Y integer(3), Z integer(3), image BLOB) ;\")"
   ]
  },
  {
   "cell_type": "code",
   "execution_count": 103,
   "metadata": {},
   "outputs": [],
   "source": [
    "del df\n",
    "del obj\n",
    "df= pd.DataFrame(columns = ['Obj_Name','Shape', 'Size','Datatype','X','Y','Z','blob_image'])  \n",
    "obj = pd.DataFrame(columns= ['Obj_Name','texture_id','background_id','shadow_id'])"
   ]
  },
  {
   "cell_type": "code",
   "execution_count": 104,
   "metadata": {
    "scrolled": false
   },
   "outputs": [
    {
     "ename": "OperationalError",
     "evalue": "near \"[(image_id,image_shape, image_size, image_type,X,Y,Z,image)]\": syntax error",
     "output_type": "error",
     "traceback": [
      "\u001b[1;31m---------------------------------------------------------------------------\u001b[0m",
      "\u001b[1;31mOperationalError\u001b[0m                          Traceback (most recent call last)",
      "\u001b[1;32m<ipython-input-104-2923d9754a3d>\u001b[0m in \u001b[0;36m<module>\u001b[1;34m()\u001b[0m\n\u001b[0;32m     57\u001b[0m             \u001b[0mk\u001b[0m \u001b[1;33m=\u001b[0m \u001b[0mbase64\u001b[0m\u001b[1;33m.\u001b[0m\u001b[0mb64encode\u001b[0m\u001b[1;33m(\u001b[0m\u001b[0mbytes\u001b[0m\u001b[1;33m(\u001b[0m\u001b[1;34m'j'\u001b[0m\u001b[1;33m,\u001b[0m \u001b[1;34m'utf-8'\u001b[0m\u001b[1;33m)\u001b[0m\u001b[1;33m)\u001b[0m\u001b[1;33m\u001b[0m\u001b[0m\n\u001b[0;32m     58\u001b[0m             \u001b[0mdf\u001b[0m\u001b[1;33m.\u001b[0m\u001b[0mloc\u001b[0m\u001b[1;33m[\u001b[0m\u001b[0mn\u001b[0m\u001b[1;33m,\u001b[0m\u001b[1;34m'blob_image'\u001b[0m\u001b[1;33m]\u001b[0m \u001b[1;33m=\u001b[0m \u001b[0mk\u001b[0m\u001b[1;33m\u001b[0m\u001b[0m\n\u001b[1;32m---> 59\u001b[1;33m             \u001b[0mc\u001b[0m\u001b[1;33m.\u001b[0m\u001b[0mexecute\u001b[0m\u001b[1;33m(\u001b[0m\u001b[1;34m\"INSERT INTO images [(image_id,image_shape, image_size, image_type,X,Y,Z,image)]  VALUES (?,?,?,?,?,?,?,?);\"\u001b[0m\u001b[1;33m,\u001b[0m\u001b[1;33m(\u001b[0m\u001b[0mimg_id\u001b[0m\u001b[1;33m,\u001b[0m\u001b[0mi1\u001b[0m\u001b[1;33m,\u001b[0m\u001b[0mi2\u001b[0m\u001b[1;33m,\u001b[0m\u001b[0mi3\u001b[0m\u001b[1;33m,\u001b[0m\u001b[0mx\u001b[0m\u001b[1;33m,\u001b[0m\u001b[0my\u001b[0m\u001b[1;33m,\u001b[0m\u001b[0mz\u001b[0m\u001b[1;33m,\u001b[0m\u001b[0mj\u001b[0m\u001b[1;33m)\u001b[0m\u001b[1;33m)\u001b[0m\u001b[1;33m\u001b[0m\u001b[0m\n\u001b[0m\u001b[0;32m     60\u001b[0m             \u001b[0mb\u001b[0m \u001b[1;33m=\u001b[0m \u001b[0mimg_id\u001b[0m\u001b[1;33m.\u001b[0m\u001b[0msplit\u001b[0m\u001b[1;33m(\u001b[0m\u001b[1;34m'_'\u001b[0m\u001b[1;33m)\u001b[0m\u001b[1;33m\u001b[0m\u001b[0m\n\u001b[0;32m     61\u001b[0m             \u001b[0minc\u001b[0m \u001b[1;33m=\u001b[0m \u001b[0mint\u001b[0m\u001b[1;33m(\u001b[0m\u001b[0mb\u001b[0m\u001b[1;33m[\u001b[0m\u001b[1;36m1\u001b[0m\u001b[1;33m]\u001b[0m\u001b[1;33m)\u001b[0m\u001b[1;33m\u001b[0m\u001b[0m\n",
      "\u001b[1;31mOperationalError\u001b[0m: near \"[(image_id,image_shape, image_size, image_type,X,Y,Z,image)]\": syntax error"
     ]
    }
   ],
   "source": [
    "\n",
    "#del df\n",
    "dir = \".../Desktop/maya_images/Drive_Images\"\n",
    "\n",
    "img_id = 'im_1'\n",
    "valid_images = [\".jpg\",\".jpeg\",\".png\"]\n",
    "for root, dirs, files in os.walk(dir):\n",
    "    \n",
    "    for name in files:\n",
    "        ext = os.path.splitext(name)\n",
    "        if ext[1].lower() not in valid_images:\n",
    "            continue\n",
    "        else:\n",
    "            namesplit = ext[0].split('_')\n",
    "            i2=os.path.getsize(os.path.join(root,name))\n",
    "            img = cv2.imread(os.path.join(root,name))##entire path of image\n",
    "            i4=name\n",
    "            i1=img.shape\n",
    "            i3=img.dtype\n",
    "            i5 = namesplit[0]\n",
    "            i6 = namesplit[1]\n",
    "            i7 = namesplit[2]\n",
    "            i8 = namesplit[3]\n",
    "            i9 = namesplit[4]\n",
    "            i10 = namesplit[5]\n",
    "            i11 = namesplit[6]\n",
    "            i12 = namesplit[7]\n",
    "            i13 = namesplit[8]\n",
    "                   #print(\"name\",i4)\n",
    "                   #print('Image shape is \\n',img.shape)\n",
    "                   #print('Image size is \\n', os.path.getsize(os.path.join(root,name)))\n",
    "                   #print ('Image datatype is \\n',img.dtype)\n",
    "            df.loc[n, 'Shape'] = i1\n",
    "            df.loc[n, 'Size'] = i2\n",
    "            df.loc[n, 'Datatype'] = i3\n",
    "            df.loc[n,'Obj_Name'] = i7\n",
    "            x = i8[1:]\n",
    "            y = i9[1:]\n",
    "            z = i10[1:]\n",
    "            df.loc[n,'X']=int(re.search(r'\\d+',x).group())\n",
    "            df.loc[n,'Y']=int(re.search(r'\\d+',y).group())\n",
    "            df.loc[n,'Z']=int(re.search(r'\\d+',z).group())\n",
    "            obj.loc[n,'Obj_Name']=i7\n",
    "            if (i11 == 'Yes'):\n",
    "                obj.loc[n,'shadow_id'] = 'sh_01'\n",
    "            else:\n",
    "                obj.loc[n,'shadow_id'] = 'sh_02'\n",
    "            if (i12 == 'Black'):\n",
    "                obj.loc[n,'texture_id']= 'sa_01'\n",
    "            else:\n",
    "                obj.loc[n,'texture_id'] = 'sa_02'\n",
    "            if (i13 == 'Black'):\n",
    "                obj.loc[n,'background_id'] = 'bk_01'\n",
    "            else:\n",
    "                obj.loc[n,'background_id'] = 'bk_02'\n",
    "            j = convertToBinaryData(os.path.join(root,name))\n",
    "            k = base64.b64encode(bytes('j', 'utf-8'))\n",
    "            df.loc[n,'blob_image'] = k\n",
    "            c.execute(\"INSERT INTO images [(image_id,image_shape, image_size, image_type,X,Y,Z,image)]  VALUES (?,?,?,?,?,?,?,?);\",(img_id,i1,i2,i3,x,y,z,j))\n",
    "            b = img_id.split('_')\n",
    "            inc = int(b[1])\n",
    "            inc = str(inc+1)\n",
    "            img_id = b[0]+'_'+inc\n",
    "            n = n+1\n",
    "obj = obj.drop_duplicates()"
   ]
  }
 ],
 "metadata": {
  "kernelspec": {
   "display_name": "Python 3",
   "language": "python",
   "name": "python3"
  },
  "language_info": {
   "codemirror_mode": {
    "name": "ipython",
    "version": 3
   },
   "file_extension": ".py",
   "mimetype": "text/x-python",
   "name": "python",
   "nbconvert_exporter": "python",
   "pygments_lexer": "ipython3",
   "version": "3.6.5"
  }
 },
 "nbformat": 4,
 "nbformat_minor": 2
}
