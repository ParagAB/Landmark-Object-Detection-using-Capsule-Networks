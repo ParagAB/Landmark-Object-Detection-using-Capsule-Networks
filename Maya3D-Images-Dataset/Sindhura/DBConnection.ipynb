{
 "cells": [
  {
   "cell_type": "code",
   "execution_count": 40,
   "metadata": {},
   "outputs": [
    {
     "name": "stdout",
     "output_type": "stream",
     "text": [
      "Connected to MySQL database\n"
     ]
    }
   ],
   "source": [
    "import mysql.connector\n",
    "from mysql.connector import Error\n",
    " \n",
    " \n",
    "def connect():\n",
    "    \"\"\" Connect to MySQL database \"\"\"\n",
    "    try:\n",
    "        conn = mysql.connector.connect(host= 'localhost',\n",
    "                                       database='images',\n",
    "                                       user='root',\n",
    "                                       port = \"3306\",\n",
    "                                       password='password',\n",
    "                                       auth_plugin='mysql_native_password')\n",
    "        if conn.is_connected():\n",
    "            print('Connected to MySQL database')\n",
    " \n",
    "    except Error as e:\n",
    "        print(e)\n",
    " \n",
    "    finally:\n",
    "        conn.close()\n",
    " \n",
    " \n",
    "if __name__ == '__main__':\n",
    "    connect()\n"
   ]
  },
  {
   "cell_type": "code",
   "execution_count": 3,
   "metadata": {},
   "outputs": [
    {
     "name": "stdout",
     "output_type": "stream",
     "text": [
      "Connected to MySQL database\n"
     ]
    }
   ],
   "source": [
    "import mysql.connector\n",
    "from mysql.connector import errorcode\n",
    "\n",
    "try:\n",
    "  cnx = mysql.connector.connect(host= 'localhost',\n",
    "                                user='root',\n",
    "                                password='password',\n",
    "                                auth_plugin='mysql_native_password',\n",
    "                                database='images')\n",
    "  if cnx.is_connected():\n",
    "            print('Connected to MySQL database')\n",
    "except mysql.connector.Error as err:\n",
    "  if err.errno == errorcode.ER_ACCESS_DENIED_ERROR:\n",
    "    print(\"Something is wrong with your user name or password\")\n",
    "  elif err.errno == errorcode.ER_BAD_DB_ERROR:\n",
    "    print(\"Database does not exist\")\n",
    "  else:\n",
    "    print(err)\n",
    "else:\n",
    "  cnx.close()"
   ]
  },
  {
   "cell_type": "code",
   "execution_count": null,
   "metadata": {},
   "outputs": [],
   "source": []
  }
 ],
 "metadata": {
  "kernelspec": {
   "display_name": "Python 3",
   "language": "python",
   "name": "python3"
  },
  "language_info": {
   "codemirror_mode": {
    "name": "ipython",
    "version": 3
   },
   "file_extension": ".py",
   "mimetype": "text/x-python",
   "name": "python",
   "nbconvert_exporter": "python",
   "pygments_lexer": "ipython3",
   "version": "3.7.1"
  }
 },
 "nbformat": 4,
 "nbformat_minor": 2
}
