{
 "cells": [
  {
   "cell_type": "code",
   "execution_count": 8,
   "metadata": {},
   "outputs": [
    {
     "name": "stdout",
     "output_type": "stream",
     "text": [
      "Connected to MySQL database\n",
      "Record inserted successfully into python_users table\n"
     ]
    }
   ],
   "source": [
    "#Establish connection to MYSQL workbench and insert values into table\n",
    "\n",
    "import mysql.connector\n",
    "from mysql.connector import errorcode\n",
    "\n",
    "try:\n",
    "  cnx = mysql.connector.connect(host= 'localhost',\n",
    "                                user='root',\n",
    "                                password='password',\n",
    "                                auth_plugin='mysql_native_password',\n",
    "                                database='images')\n",
    "  if cnx.is_connected():\n",
    "            print('Connected to MySQL database')\n",
    "            sql_insert_query = \"\"\" INSERT INTO `category` (`category_id`, `category_name`) VALUES (1,'Animals')\"\"\"\n",
    "            cursor = cnx.cursor()\n",
    "            result  = cursor.execute(sql_insert_query)\n",
    "            cnx.commit()\n",
    "            print (\"Record inserted successfully into python_users table\")\n",
    "except mysql.connector.Error as err:\n",
    "  if err.errno == errorcode.ER_ACCESS_DENIED_ERROR:\n",
    "    print(\"Something is wrong with your user name or password\")\n",
    "  elif err.errno == errorcode.ER_BAD_DB_ERROR:\n",
    "    print(\"Database does not exist\")\n",
    "  else:\n",
    "    print(err)\n",
    "else:\n",
    "  cnx.close()"
   ]
  },
  {
   "cell_type": "code",
   "execution_count": null,
   "metadata": {},
   "outputs": [],
   "source": []
  }
 ],
 "metadata": {
  "kernelspec": {
   "display_name": "Python 3",
   "language": "python",
   "name": "python3"
  },
  "language_info": {
   "codemirror_mode": {
    "name": "ipython",
    "version": 3
   },
   "file_extension": ".py",
   "mimetype": "text/x-python",
   "name": "python",
   "nbconvert_exporter": "python",
   "pygments_lexer": "ipython3",
   "version": "3.7.1"
  }
 },
 "nbformat": 4,
 "nbformat_minor": 2
}
