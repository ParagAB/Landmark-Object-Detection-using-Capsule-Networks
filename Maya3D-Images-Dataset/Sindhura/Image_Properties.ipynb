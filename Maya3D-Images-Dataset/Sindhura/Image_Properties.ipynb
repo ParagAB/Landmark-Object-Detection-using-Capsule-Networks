{
 "cells": [
  {
   "cell_type": "code",
   "execution_count": 28,
   "metadata": {},
   "outputs": [],
   "source": [
    "import numpy as np\n",
    "import pandas as pd\n",
    "import cv2\n",
    "import os\n",
    "import os.path"
   ]
  },
  {
   "cell_type": "code",
   "execution_count": 34,
   "metadata": {},
   "outputs": [
    {
     "name": "stdout",
     "output_type": "stream",
     "text": [
      "['a.jpeg', 'c.jpeg', 'b.jpg', 'd.jpg']\n"
     ]
    }
   ],
   "source": [
    "pics = []\n",
    "for files in os.listdir('/Users/sindhurareddy/Desktop/test'):\n",
    "    pics.append(files)\n",
    "print(pics)\n",
    "    "
   ]
  },
  {
   "cell_type": "code",
   "execution_count": 35,
   "metadata": {},
   "outputs": [
    {
     "name": "stdout",
     "output_type": "stream",
     "text": [
      "['/Users/sindhurareddy/Desktop/test/a.jpeg']\n",
      "['/Users/sindhurareddy/Desktop/test/a.jpeg', '/Users/sindhurareddy/Desktop/test/c.jpeg']\n",
      "['/Users/sindhurareddy/Desktop/test/a.jpeg', '/Users/sindhurareddy/Desktop/test/c.jpeg', '/Users/sindhurareddy/Desktop/test/b.jpg']\n",
      "['/Users/sindhurareddy/Desktop/test/a.jpeg', '/Users/sindhurareddy/Desktop/test/c.jpeg', '/Users/sindhurareddy/Desktop/test/b.jpg', '/Users/sindhurareddy/Desktop/test/d.jpg']\n"
     ]
    }
   ],
   "source": [
    "file_name = []\n",
    "size = []\n",
    "shape = []\n",
    "image_type = []\n",
    "\n",
    "for i in range(0,len(pics)):\n",
    "    filename = '/Users/sindhurareddy/Desktop/test/{}'.format(pics[i])\n",
    "    file_name.append(filename)\n",
    "      "
   ]
  },
  {
   "cell_type": "code",
   "execution_count": 36,
   "metadata": {},
   "outputs": [],
   "source": [
    "for j in file_name:\n",
    "    image = cv2.imread(j)\n",
    "    size.append(image.size)\n",
    "    shape.append(image.shape)\n",
    "    image_type.append(image.dtype)"
   ]
  },
  {
   "cell_type": "code",
   "execution_count": 37,
   "metadata": {},
   "outputs": [
    {
     "name": "stdout",
     "output_type": "stream",
     "text": [
      "[4500000, 421500, 720000, 259554]\n"
     ]
    }
   ],
   "source": [
    "print(size)"
   ]
  },
  {
   "cell_type": "code",
   "execution_count": 40,
   "metadata": {},
   "outputs": [],
   "source": [
    "image = pd.DataFrame(np.column_stack([pics,shape,size,image_type]),\n",
    "                             columns=['File Name','Shape 1','Shape 2','Shape 3','Size','Type'])\n"
   ]
  },
  {
   "cell_type": "code",
   "execution_count": 41,
   "metadata": {},
   "outputs": [
    {
     "data": {
      "text/html": [
       "<div>\n",
       "<style scoped>\n",
       "    .dataframe tbody tr th:only-of-type {\n",
       "        vertical-align: middle;\n",
       "    }\n",
       "\n",
       "    .dataframe tbody tr th {\n",
       "        vertical-align: top;\n",
       "    }\n",
       "\n",
       "    .dataframe thead th {\n",
       "        text-align: right;\n",
       "    }\n",
       "</style>\n",
       "<table border=\"1\" class=\"dataframe\">\n",
       "  <thead>\n",
       "    <tr style=\"text-align: right;\">\n",
       "      <th></th>\n",
       "      <th>File Name</th>\n",
       "      <th>Shape 1</th>\n",
       "      <th>Shape 2</th>\n",
       "      <th>Shape 3</th>\n",
       "      <th>Size</th>\n",
       "      <th>Type</th>\n",
       "    </tr>\n",
       "  </thead>\n",
       "  <tbody>\n",
       "    <tr>\n",
       "      <th>0</th>\n",
       "      <td>a.jpeg</td>\n",
       "      <td>1500</td>\n",
       "      <td>1000</td>\n",
       "      <td>3</td>\n",
       "      <td>4500000</td>\n",
       "      <td>uint8</td>\n",
       "    </tr>\n",
       "    <tr>\n",
       "      <th>1</th>\n",
       "      <td>c.jpeg</td>\n",
       "      <td>281</td>\n",
       "      <td>500</td>\n",
       "      <td>3</td>\n",
       "      <td>421500</td>\n",
       "      <td>uint8</td>\n",
       "    </tr>\n",
       "    <tr>\n",
       "      <th>2</th>\n",
       "      <td>b.jpg</td>\n",
       "      <td>400</td>\n",
       "      <td>600</td>\n",
       "      <td>3</td>\n",
       "      <td>720000</td>\n",
       "      <td>uint8</td>\n",
       "    </tr>\n",
       "    <tr>\n",
       "      <th>3</th>\n",
       "      <td>d.jpg</td>\n",
       "      <td>239</td>\n",
       "      <td>362</td>\n",
       "      <td>3</td>\n",
       "      <td>259554</td>\n",
       "      <td>uint8</td>\n",
       "    </tr>\n",
       "  </tbody>\n",
       "</table>\n",
       "</div>"
      ],
      "text/plain": [
       "  File Name Shape 1 Shape 2 Shape 3     Size   Type\n",
       "0    a.jpeg    1500    1000       3  4500000  uint8\n",
       "1    c.jpeg     281     500       3   421500  uint8\n",
       "2     b.jpg     400     600       3   720000  uint8\n",
       "3     d.jpg     239     362       3   259554  uint8"
      ]
     },
     "execution_count": 41,
     "metadata": {},
     "output_type": "execute_result"
    }
   ],
   "source": [
    "image"
   ]
  },
  {
   "cell_type": "code",
   "execution_count": null,
   "metadata": {},
   "outputs": [],
   "source": []
  }
 ],
 "metadata": {
  "kernelspec": {
   "display_name": "Python 3",
   "language": "python",
   "name": "python3"
  },
  "language_info": {
   "codemirror_mode": {
    "name": "ipython",
    "version": 3
   },
   "file_extension": ".py",
   "mimetype": "text/x-python",
   "name": "python",
   "nbconvert_exporter": "python",
   "pygments_lexer": "ipython3",
   "version": "3.7.1"
  }
 },
 "nbformat": 4,
 "nbformat_minor": 2
}
