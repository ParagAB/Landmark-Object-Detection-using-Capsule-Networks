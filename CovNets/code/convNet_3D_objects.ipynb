{
  "nbformat": 4,
  "nbformat_minor": 0,
  "metadata": {
    "colab": {
      "name": "convNet_3D_objects.ipynb",
      "version": "0.3.2",
      "provenance": [],
      "collapsed_sections": []
    },
    "kernelspec": {
      "name": "python3",
      "display_name": "Python 3"
    },
    "accelerator": "GPU"
  },
  "cells": [
    {
      "metadata": {
        "id": "bH67Jr602xh7",
        "colab_type": "text"
      },
      "cell_type": "markdown",
      "source": [
        "Image Classification using Convolutional Neural Network"
      ]
    },
    {
      "metadata": {
        "id": "Aya5_TPdo83s",
        "colab_type": "code",
        "outputId": "fb862b33-e8e0-4365-c04f-a996541d2765",
        "colab": {
          "base_uri": "https://localhost:8080/",
          "height": 339
        }
      },
      "cell_type": "code",
      "source": [
        "!pip install pydrive"
      ],
      "execution_count": 0,
      "outputs": [
        {
          "output_type": "stream",
          "text": [
            "Collecting pydrive\n",
            "\u001b[?25l  Downloading https://files.pythonhosted.org/packages/52/e0/0e64788e5dd58ce2d6934549676243dc69d982f198524be9b99e9c2a4fd5/PyDrive-1.3.1.tar.gz (987kB)\n",
            "\u001b[K    100% |████████████████████████████████| 993kB 25.4MB/s \n",
            "\u001b[?25hRequirement already satisfied: google-api-python-client>=1.2 in /usr/local/lib/python3.6/dist-packages (from pydrive) (1.6.7)\n",
            "Requirement already satisfied: oauth2client>=4.0.0 in /usr/local/lib/python3.6/dist-packages (from pydrive) (4.1.3)\n",
            "Requirement already satisfied: PyYAML>=3.0 in /usr/local/lib/python3.6/dist-packages (from pydrive) (3.13)\n",
            "Requirement already satisfied: httplib2<1dev,>=0.9.2 in /usr/local/lib/python3.6/dist-packages (from google-api-python-client>=1.2->pydrive) (0.11.3)\n",
            "Requirement already satisfied: uritemplate<4dev,>=3.0.0 in /usr/local/lib/python3.6/dist-packages (from google-api-python-client>=1.2->pydrive) (3.0.0)\n",
            "Requirement already satisfied: six<2dev,>=1.6.1 in /usr/local/lib/python3.6/dist-packages (from google-api-python-client>=1.2->pydrive) (1.11.0)\n",
            "Requirement already satisfied: pyasn1>=0.1.7 in /usr/local/lib/python3.6/dist-packages (from oauth2client>=4.0.0->pydrive) (0.4.5)\n",
            "Requirement already satisfied: pyasn1-modules>=0.0.5 in /usr/local/lib/python3.6/dist-packages (from oauth2client>=4.0.0->pydrive) (0.2.4)\n",
            "Requirement already satisfied: rsa>=3.1.4 in /usr/local/lib/python3.6/dist-packages (from oauth2client>=4.0.0->pydrive) (4.0)\n",
            "Building wheels for collected packages: pydrive\n",
            "  Building wheel for pydrive (setup.py) ... \u001b[?25ldone\n",
            "\u001b[?25h  Stored in directory: /root/.cache/pip/wheels/fa/d2/9a/d3b6b506c2da98289e5d417215ce34b696db856643bad779f4\n",
            "Successfully built pydrive\n",
            "Installing collected packages: pydrive\n",
            "Successfully installed pydrive-1.3.1\n"
          ],
          "name": "stdout"
        }
      ]
    },
    {
      "metadata": {
        "id": "XwOeRPr3o-2b",
        "colab_type": "code",
        "outputId": "62a9bc8c-7235-4d7c-aebc-d1d15ee18c79",
        "colab": {
          "base_uri": "https://localhost:8080/",
          "height": 34
        }
      },
      "cell_type": "code",
      "source": [
        "import numpy as np\n",
        "from keras.preprocessing.image import ImageDataGenerator\n",
        "from keras.models import Sequential\n",
        "from keras.layers import Conv2D\n",
        "from keras.layers import AveragePooling2D,Dropout,Flatten\n",
        "from keras.layers import Dense\n",
        "from keras.optimizers import Adam\n",
        "from keras.models import model_from_json\n",
        "from keras.preprocessing.image import ImageDataGenerator\n",
        "\n",
        "#--------------linear algebra, data processing----------#\n",
        "import numpy as np \n",
        "import pandas as pd\n",
        "import glob,string\n",
        "import codecs\n",
        "from tqdm import tqdm\n",
        "\n",
        "#--------------Google authentication--------------------#\n",
        "from pydrive.auth import GoogleAuth\n",
        "from pydrive.drive import GoogleDrive\n",
        "from google.colab import auth\n",
        "import tensorflow as tf\n",
        "from oauth2client.client import GoogleCredentials"
      ],
      "execution_count": 0,
      "outputs": [
        {
          "output_type": "stream",
          "text": [
            "Using TensorFlow backend.\n"
          ],
          "name": "stderr"
        }
      ]
    },
    {
      "metadata": {
        "id": "MYyEnxfEpHIh",
        "colab_type": "code",
        "colab": {}
      },
      "cell_type": "code",
      "source": [
        "auth.authenticate_user()\n",
        "gauth = GoogleAuth()\n",
        "gauth.credentials = GoogleCredentials.get_application_default()\n",
        "drive = GoogleDrive(gauth)"
      ],
      "execution_count": 0,
      "outputs": []
    },
    {
      "metadata": {
        "id": "LCaxiA2vpLwz",
        "colab_type": "code",
        "colab": {}
      },
      "cell_type": "code",
      "source": [
        "zip_file = drive.CreateFile({'id': '1Kc-NFM_mfvnrx31rcpsnrMWarEb2Gnmc'})\n",
        "zip_file.GetContentFile('3D_object_dataset.zip')"
      ],
      "execution_count": 0,
      "outputs": []
    },
    {
      "metadata": {
        "id": "L8V_pHl4p-sA",
        "colab_type": "code",
        "colab": {}
      },
      "cell_type": "code",
      "source": [
        "!unzip '3D_object_dataset.zip'"
      ],
      "execution_count": 0,
      "outputs": []
    },
    {
      "metadata": {
        "id": "o4ac1-l2qDdf",
        "colab_type": "code",
        "colab": {}
      },
      "cell_type": "code",
      "source": [
        "training_directory = '3D_object_dataset/Training'\n",
        "validation_directory = '3D_object_dataset/validation'\n",
        "testing_directory = '3D_object_dataset/Testing'"
      ],
      "execution_count": 0,
      "outputs": []
    },
    {
      "metadata": {
        "id": "xr8OrtOMwe19",
        "colab_type": "code",
        "colab": {}
      },
      "cell_type": "code",
      "source": [
        "batch_size = 15\n",
        "epochs = 100"
      ],
      "execution_count": 0,
      "outputs": []
    },
    {
      "metadata": {
        "id": "cKFVgJYwroeR",
        "colab_type": "code",
        "outputId": "e83e01d0-844b-4a0e-f57a-a23e07649288",
        "colab": {
          "base_uri": "https://localhost:8080/",
          "height": 50
        }
      },
      "cell_type": "code",
      "source": [
        "train_datagen = ImageDataGenerator(rescale=1./255,\n",
        "                                   rotation_range=20,\n",
        "                                   width_shift_range=0.2,\n",
        "                                   height_shift_range=0.2,\n",
        "                                   horizontal_flip=True)\n",
        "\n",
        "val_datagen = ImageDataGenerator(rescale=1./255,\n",
        "                                 rotation_range=20,\n",
        "                                 width_shift_range=0.2,\n",
        "                                 height_shift_range=0.2,\n",
        "                                 horizontal_flip=True)\n",
        "\n",
        "train_generator = train_datagen.flow_from_directory(\n",
        "        training_directory,\n",
        "        target_size=(128,128),\n",
        "        batch_size=batch_size,\n",
        "        color_mode=\"grayscale\",\n",
        "        class_mode='categorical',\n",
        "        shuffle=True)\n",
        "\n",
        "validation_generator = val_datagen.flow_from_directory(\n",
        "        validation_directory,\n",
        "        target_size=(128,128),\n",
        "        batch_size=batch_size,\n",
        "        color_mode=\"grayscale\",\n",
        "        class_mode='categorical',\n",
        "        shuffle = True)\n"
      ],
      "execution_count": 0,
      "outputs": [
        {
          "output_type": "stream",
          "text": [
            "Found 1605 images belonging to 4 classes.\n",
            "Found 264 images belonging to 4 classes.\n"
          ],
          "name": "stdout"
        }
      ]
    },
    {
      "metadata": {
        "id": "6wtCcwyKwrxI",
        "colab_type": "code",
        "colab": {}
      },
      "cell_type": "code",
      "source": [
        "model = Sequential()\n",
        "\n",
        "model.add(Conv2D(64, kernel_size=(5, 5), activation='relu', input_shape=(128,128,1)))\n",
        "model.add(Conv2D(64, kernel_size=(5, 5), activation='relu'))\n",
        "model.add(AveragePooling2D(pool_size=(3, 3)))\n",
        "model.add(Dropout(0.25))\n",
        "\n",
        "model.add(Conv2D(128, kernel_size=(3, 3), activation='relu'))\n",
        "model.add(AveragePooling2D(pool_size=(2, 2)))\n",
        "model.add(Dropout(0.25))\n",
        "\n",
        "model.add(Conv2D(128, kernel_size=(3, 3), activation='relu'))\n",
        "model.add(Dropout(0.25))\n",
        "\n",
        "model.add(Conv2D(512, kernel_size=(3, 3), activation='relu'))\n",
        "model.add(Dropout(0.3))\n",
        "\n",
        "model.add(Conv2D(512, kernel_size=(2, 2), activation='relu'))\n",
        "model.add(AveragePooling2D(pool_size=(2, 2)))\n",
        "model.add(Dropout(0.3))\n",
        "model.add(Conv2D(1024, kernel_size=(2, 2), activation='relu'))\n",
        "model.add(Conv2D(512, kernel_size=(2, 2), activation='relu'))\n",
        "model.add(AveragePooling2D(pool_size=(2, 2)))\n",
        "model.add(Dropout(0.3))\n",
        "\n",
        "model.add(Flatten())\n",
        "model.add(Dense(256, activation='relu'))\n",
        "model.add(Dropout(0.3))\n",
        "model.add(Dense(512, activation='relu'))\n",
        "model.add(Dropout(0.3))\n",
        "\n",
        "model.add(Dense(len(train_generator.class_indices), activation='softmax'))"
      ],
      "execution_count": 0,
      "outputs": []
    },
    {
      "metadata": {
        "id": "H7aw9mrBnPuN",
        "colab_type": "code",
        "outputId": "12e4254c-0e34-4dc5-a356-96dc2a37ab13",
        "colab": {
          "base_uri": "https://localhost:8080/",
          "height": 941
        }
      },
      "cell_type": "code",
      "source": [
        "model.summary()"
      ],
      "execution_count": 0,
      "outputs": [
        {
          "output_type": "stream",
          "text": [
            "_________________________________________________________________\n",
            "Layer (type)                 Output Shape              Param #   \n",
            "=================================================================\n",
            "conv2d_102 (Conv2D)          (None, 124, 124, 64)      1664      \n",
            "_________________________________________________________________\n",
            "conv2d_103 (Conv2D)          (None, 120, 120, 64)      102464    \n",
            "_________________________________________________________________\n",
            "average_pooling2d_55 (Averag (None, 40, 40, 64)        0         \n",
            "_________________________________________________________________\n",
            "dropout_103 (Dropout)        (None, 40, 40, 64)        0         \n",
            "_________________________________________________________________\n",
            "conv2d_104 (Conv2D)          (None, 38, 38, 128)       73856     \n",
            "_________________________________________________________________\n",
            "average_pooling2d_56 (Averag (None, 19, 19, 128)       0         \n",
            "_________________________________________________________________\n",
            "dropout_104 (Dropout)        (None, 19, 19, 128)       0         \n",
            "_________________________________________________________________\n",
            "conv2d_105 (Conv2D)          (None, 17, 17, 128)       147584    \n",
            "_________________________________________________________________\n",
            "dropout_105 (Dropout)        (None, 17, 17, 128)       0         \n",
            "_________________________________________________________________\n",
            "conv2d_106 (Conv2D)          (None, 15, 15, 512)       590336    \n",
            "_________________________________________________________________\n",
            "dropout_106 (Dropout)        (None, 15, 15, 512)       0         \n",
            "_________________________________________________________________\n",
            "conv2d_107 (Conv2D)          (None, 14, 14, 512)       1049088   \n",
            "_________________________________________________________________\n",
            "average_pooling2d_57 (Averag (None, 7, 7, 512)         0         \n",
            "_________________________________________________________________\n",
            "dropout_107 (Dropout)        (None, 7, 7, 512)         0         \n",
            "_________________________________________________________________\n",
            "conv2d_108 (Conv2D)          (None, 6, 6, 1024)        2098176   \n",
            "_________________________________________________________________\n",
            "conv2d_109 (Conv2D)          (None, 5, 5, 512)         2097664   \n",
            "_________________________________________________________________\n",
            "average_pooling2d_58 (Averag (None, 2, 2, 512)         0         \n",
            "_________________________________________________________________\n",
            "dropout_108 (Dropout)        (None, 2, 2, 512)         0         \n",
            "_________________________________________________________________\n",
            "flatten_15 (Flatten)         (None, 2048)              0         \n",
            "_________________________________________________________________\n",
            "dense_43 (Dense)             (None, 256)               524544    \n",
            "_________________________________________________________________\n",
            "dropout_109 (Dropout)        (None, 256)               0         \n",
            "_________________________________________________________________\n",
            "dense_44 (Dense)             (None, 512)               131584    \n",
            "_________________________________________________________________\n",
            "dropout_110 (Dropout)        (None, 512)               0         \n",
            "_________________________________________________________________\n",
            "dense_45 (Dense)             (None, 4)                 2052      \n",
            "=================================================================\n",
            "Total params: 6,819,012\n",
            "Trainable params: 6,819,012\n",
            "Non-trainable params: 0\n",
            "_________________________________________________________________\n"
          ],
          "name": "stdout"
        }
      ]
    },
    {
      "metadata": {
        "id": "_hH4O4gYoDgg",
        "colab_type": "code",
        "colab": {}
      },
      "cell_type": "code",
      "source": [
        "from keras.callbacks import EarlyStopping,ModelCheckpoint,ReduceLROnPlateau\n",
        "from keras.preprocessing.image import ImageDataGenerator\n",
        "patience =30\n",
        "\n",
        "#log_file_path = base_path + dataset_name + '_emotion_training.log'\n",
        "#csv_logger = CSVLogger(log_file_path, append=False)\n",
        "early_stop = EarlyStopping('val_loss', patience=patience)\n",
        "reduce_lr = ReduceLROnPlateau('val_loss', factor=0.1,\n",
        "                                  patience=int(patience/4), verbose=1)\n",
        "trained_models_path = 'trained_model_2'\n",
        "model_names = trained_models_path + '.{epoch:02d}.{val_acc:02f}.hdf5'\n",
        "model_checkpoint = ModelCheckpoint(model_names, 'val_loss', verbose=1,\n",
        "                                                    save_best_only=True)\n",
        "callbacks = [model_checkpoint, early_stop, reduce_lr]"
      ],
      "execution_count": 0,
      "outputs": []
    },
    {
      "metadata": {
        "id": "epx80jA-oOla",
        "colab_type": "code",
        "outputId": "ca175731-16b3-4aac-94e4-5e0bd8dc9e0c",
        "colab": {
          "base_uri": "https://localhost:8080/",
          "height": 3394
        }
      },
      "cell_type": "code",
      "source": [
        "model.compile(loss='categorical_crossentropy', optimizer=Adam(lr=0.001), metrics=['accuracy'])\n",
        "\n",
        "model.fit_generator(generator=train_generator,\n",
        "\t                    steps_per_epoch=66,\n",
        "\t                    validation_data=validation_generator,\n",
        "\t                    validation_steps=16,\n",
        "\t                    epochs=100,\n",
        "                      callbacks= callbacks)"
      ],
      "execution_count": 0,
      "outputs": [
        {
          "output_type": "stream",
          "text": [
            "Epoch 1/100\n",
            "66/66 [==============================] - 18s 278ms/step - loss: 1.4426 - acc: 0.2808 - val_loss: 1.3929 - val_acc: 0.2436\n",
            "\n",
            "Epoch 00001: val_loss improved from inf to 1.39290, saving model to trained_model_2.01.0.243590.hdf5\n",
            "Epoch 2/100\n",
            "66/66 [==============================] - 12s 187ms/step - loss: 1.3767 - acc: 0.3192 - val_loss: 1.4199 - val_acc: 0.2265\n",
            "\n",
            "Epoch 00002: val_loss did not improve from 1.39290\n",
            "Epoch 3/100\n",
            "66/66 [==============================] - 14s 208ms/step - loss: 1.3870 - acc: 0.2838 - val_loss: 1.3993 - val_acc: 0.2393\n",
            "\n",
            "Epoch 00003: val_loss did not improve from 1.39290\n",
            "Epoch 4/100\n",
            "66/66 [==============================] - 15s 228ms/step - loss: 1.3818 - acc: 0.2990 - val_loss: 1.3972 - val_acc: 0.2222\n",
            "\n",
            "Epoch 00004: val_loss did not improve from 1.39290\n",
            "Epoch 5/100\n",
            "66/66 [==============================] - 14s 218ms/step - loss: 1.3800 - acc: 0.3071 - val_loss: 1.3956 - val_acc: 0.2417\n",
            "\n",
            "Epoch 00005: val_loss did not improve from 1.39290\n",
            "Epoch 6/100\n",
            "66/66 [==============================] - 15s 223ms/step - loss: 1.3858 - acc: 0.2798 - val_loss: 1.3943 - val_acc: 0.2179\n",
            "\n",
            "Epoch 00006: val_loss did not improve from 1.39290\n",
            "Epoch 7/100\n",
            "66/66 [==============================] - 15s 223ms/step - loss: 1.3801 - acc: 0.3030 - val_loss: 1.3961 - val_acc: 0.2564\n",
            "\n",
            "Epoch 00007: val_loss did not improve from 1.39290\n",
            "Epoch 8/100\n",
            "66/66 [==============================] - 15s 220ms/step - loss: 1.3751 - acc: 0.3212 - val_loss: 1.4162 - val_acc: 0.2308\n",
            "\n",
            "Epoch 00008: val_loss did not improve from 1.39290\n",
            "\n",
            "Epoch 00008: ReduceLROnPlateau reducing learning rate to 0.00010000000474974513.\n",
            "Epoch 9/100\n",
            "66/66 [==============================] - 13s 193ms/step - loss: 1.3917 - acc: 0.2747 - val_loss: 1.4209 - val_acc: 0.1966\n",
            "\n",
            "Epoch 00009: val_loss did not improve from 1.39290\n",
            "Epoch 10/100\n",
            "66/66 [==============================] - 15s 233ms/step - loss: 1.3786 - acc: 0.3010 - val_loss: 1.4033 - val_acc: 0.2350\n",
            "\n",
            "Epoch 00010: val_loss did not improve from 1.39290\n",
            "Epoch 11/100\n",
            "66/66 [==============================] - 14s 208ms/step - loss: 1.3839 - acc: 0.2949 - val_loss: 1.4056 - val_acc: 0.2265\n",
            "\n",
            "Epoch 00011: val_loss did not improve from 1.39290\n",
            "Epoch 12/100\n",
            "66/66 [==============================] - 14s 208ms/step - loss: 1.3786 - acc: 0.3040 - val_loss: 1.3985 - val_acc: 0.2436\n",
            "\n",
            "Epoch 00012: val_loss did not improve from 1.39290\n",
            "Epoch 13/100\n",
            "66/66 [==============================] - 14s 209ms/step - loss: 1.3852 - acc: 0.2808 - val_loss: 1.4009 - val_acc: 0.2350\n",
            "\n",
            "Epoch 00013: val_loss did not improve from 1.39290\n",
            "Epoch 14/100\n",
            "66/66 [==============================] - 14s 213ms/step - loss: 1.3792 - acc: 0.3051 - val_loss: 1.4026 - val_acc: 0.2292\n",
            "\n",
            "Epoch 00014: val_loss did not improve from 1.39290\n",
            "Epoch 15/100\n",
            "66/66 [==============================] - 14s 219ms/step - loss: 1.3752 - acc: 0.3141 - val_loss: 1.4037 - val_acc: 0.2308\n",
            "\n",
            "Epoch 00015: val_loss did not improve from 1.39290\n",
            "\n",
            "Epoch 00015: ReduceLROnPlateau reducing learning rate to 1.0000000474974514e-05.\n",
            "Epoch 16/100\n",
            "66/66 [==============================] - 15s 224ms/step - loss: 1.3790 - acc: 0.3010 - val_loss: 1.4069 - val_acc: 0.2051\n",
            "\n",
            "Epoch 00016: val_loss did not improve from 1.39290\n",
            "Epoch 17/100\n",
            "66/66 [==============================] - 14s 208ms/step - loss: 1.3830 - acc: 0.2919 - val_loss: 1.3928 - val_acc: 0.2692\n",
            "\n",
            "Epoch 00017: val_loss improved from 1.39290 to 1.39278, saving model to trained_model_2.17.0.269231.hdf5\n",
            "Epoch 18/100\n",
            "66/66 [==============================] - 14s 208ms/step - loss: 1.3752 - acc: 0.3172 - val_loss: 1.4030 - val_acc: 0.2350\n",
            "\n",
            "Epoch 00018: val_loss did not improve from 1.39278\n",
            "Epoch 19/100\n",
            "66/66 [==============================] - 14s 209ms/step - loss: 1.3870 - acc: 0.2717 - val_loss: 1.3998 - val_acc: 0.2308\n",
            "\n",
            "Epoch 00019: val_loss did not improve from 1.39278\n",
            "Epoch 20/100\n",
            "66/66 [==============================] - 14s 208ms/step - loss: 1.3785 - acc: 0.3071 - val_loss: 1.4093 - val_acc: 0.2094\n",
            "\n",
            "Epoch 00020: val_loss did not improve from 1.39278\n",
            "Epoch 21/100\n",
            "66/66 [==============================] - 15s 234ms/step - loss: 1.3758 - acc: 0.3131 - val_loss: 1.3958 - val_acc: 0.2479\n",
            "\n",
            "Epoch 00021: val_loss did not improve from 1.39278\n",
            "Epoch 22/100\n",
            "66/66 [==============================] - 14s 212ms/step - loss: 1.3847 - acc: 0.2838 - val_loss: 1.4072 - val_acc: 0.2137\n",
            "\n",
            "Epoch 00022: val_loss did not improve from 1.39278\n",
            "Epoch 23/100\n",
            "66/66 [==============================] - 14s 213ms/step - loss: 1.3828 - acc: 0.2909 - val_loss: 1.3994 - val_acc: 0.2417\n",
            "\n",
            "Epoch 00023: val_loss did not improve from 1.39278\n",
            "Epoch 24/100\n",
            "66/66 [==============================] - 14s 208ms/step - loss: 1.3808 - acc: 0.2970 - val_loss: 1.3995 - val_acc: 0.2436\n",
            "\n",
            "Epoch 00024: val_loss did not improve from 1.39278\n",
            "\n",
            "Epoch 00024: ReduceLROnPlateau reducing learning rate to 1.0000000656873453e-06.\n",
            "Epoch 25/100\n",
            "66/66 [==============================] - 14s 210ms/step - loss: 1.3790 - acc: 0.3051 - val_loss: 1.4080 - val_acc: 0.2051\n",
            "\n",
            "Epoch 00025: val_loss did not improve from 1.39278\n",
            "Epoch 26/100\n",
            "66/66 [==============================] - 14s 211ms/step - loss: 1.3834 - acc: 0.2859 - val_loss: 1.3958 - val_acc: 0.2521\n",
            "\n",
            "Epoch 00026: val_loss did not improve from 1.39278\n",
            "Epoch 27/100\n",
            "66/66 [==============================] - 15s 234ms/step - loss: 1.3757 - acc: 0.3152 - val_loss: 1.4089 - val_acc: 0.2009\n",
            "\n",
            "Epoch 00027: val_loss did not improve from 1.39278\n",
            "Epoch 28/100\n",
            "66/66 [==============================] - 15s 222ms/step - loss: 1.3860 - acc: 0.2778 - val_loss: 1.3954 - val_acc: 0.2607\n",
            "\n",
            "Epoch 00028: val_loss did not improve from 1.39278\n",
            "Epoch 29/100\n",
            "66/66 [==============================] - 15s 234ms/step - loss: 1.3750 - acc: 0.3192 - val_loss: 1.4077 - val_acc: 0.2094\n",
            "\n",
            "Epoch 00029: val_loss did not improve from 1.39278\n",
            "Epoch 30/100\n",
            "66/66 [==============================] - 14s 213ms/step - loss: 1.3816 - acc: 0.2960 - val_loss: 1.3933 - val_acc: 0.2607\n",
            "\n",
            "Epoch 00030: val_loss did not improve from 1.39278\n",
            "Epoch 31/100\n",
            "66/66 [==============================] - 14s 211ms/step - loss: 1.3803 - acc: 0.2949 - val_loss: 1.4065 - val_acc: 0.2137\n",
            "\n",
            "Epoch 00031: val_loss did not improve from 1.39278\n",
            "\n",
            "Epoch 00031: ReduceLROnPlateau reducing learning rate to 1.0000001111620805e-07.\n",
            "Epoch 32/100\n",
            "66/66 [==============================] - 15s 229ms/step - loss: 1.3787 - acc: 0.3071 - val_loss: 1.4000 - val_acc: 0.2375\n",
            "\n",
            "Epoch 00032: val_loss did not improve from 1.39278\n",
            "Epoch 33/100\n",
            "66/66 [==============================] - 14s 216ms/step - loss: 1.3821 - acc: 0.2909 - val_loss: 1.4083 - val_acc: 0.2051\n",
            "\n",
            "Epoch 00033: val_loss did not improve from 1.39278\n",
            "Epoch 34/100\n",
            "66/66 [==============================] - 14s 210ms/step - loss: 1.3782 - acc: 0.3101 - val_loss: 1.3934 - val_acc: 0.2650\n",
            "\n",
            "Epoch 00034: val_loss did not improve from 1.39278\n",
            "Epoch 35/100\n",
            "66/66 [==============================] - 14s 212ms/step - loss: 1.3826 - acc: 0.2859 - val_loss: 1.4069 - val_acc: 0.2137\n",
            "\n",
            "Epoch 00035: val_loss did not improve from 1.39278\n",
            "Epoch 36/100\n",
            "66/66 [==============================] - 14s 211ms/step - loss: 1.3809 - acc: 0.3000 - val_loss: 1.3963 - val_acc: 0.2436\n",
            "\n",
            "Epoch 00036: val_loss did not improve from 1.39278\n",
            "Epoch 37/100\n",
            "66/66 [==============================] - 14s 210ms/step - loss: 1.3784 - acc: 0.3030 - val_loss: 1.4016 - val_acc: 0.2350\n",
            "\n",
            "Epoch 00037: val_loss did not improve from 1.39278\n",
            "Epoch 38/100\n",
            "66/66 [==============================] - 15s 233ms/step - loss: 1.3826 - acc: 0.2909 - val_loss: 1.4076 - val_acc: 0.2094\n",
            "\n",
            "Epoch 00038: val_loss did not improve from 1.39278\n",
            "\n",
            "Epoch 00038: ReduceLROnPlateau reducing learning rate to 1.000000082740371e-08.\n",
            "Epoch 39/100\n",
            "66/66 [==============================] - 14s 210ms/step - loss: 1.3790 - acc: 0.3020 - val_loss: 1.3996 - val_acc: 0.2393\n",
            "\n",
            "Epoch 00039: val_loss did not improve from 1.39278\n",
            "Epoch 40/100\n",
            "66/66 [==============================] - 14s 210ms/step - loss: 1.3825 - acc: 0.2909 - val_loss: 1.4050 - val_acc: 0.2222\n",
            "\n",
            "Epoch 00040: val_loss did not improve from 1.39278\n",
            "Epoch 41/100\n",
            "66/66 [==============================] - 14s 210ms/step - loss: 1.3774 - acc: 0.3091 - val_loss: 1.3977 - val_acc: 0.2458\n",
            "\n",
            "Epoch 00041: val_loss did not improve from 1.39278\n",
            "Epoch 42/100\n",
            "66/66 [==============================] - 14s 211ms/step - loss: 1.3817 - acc: 0.2899 - val_loss: 1.4013 - val_acc: 0.2350\n",
            "\n",
            "Epoch 00042: val_loss did not improve from 1.39278\n",
            "Epoch 43/100\n",
            "66/66 [==============================] - 14s 213ms/step - loss: 1.3781 - acc: 0.3101 - val_loss: 1.3974 - val_acc: 0.2393\n",
            "\n",
            "Epoch 00043: val_loss did not improve from 1.39278\n",
            "Epoch 44/100\n",
            "66/66 [==============================] - 15s 231ms/step - loss: 1.3864 - acc: 0.2808 - val_loss: 1.4095 - val_acc: 0.2009\n",
            "\n",
            "Epoch 00044: val_loss did not improve from 1.39278\n",
            "Epoch 45/100\n",
            "66/66 [==============================] - 14s 211ms/step - loss: 1.3751 - acc: 0.3172 - val_loss: 1.3964 - val_acc: 0.2564\n",
            "\n",
            "Epoch 00045: val_loss did not improve from 1.39278\n",
            "\n",
            "Epoch 00045: ReduceLROnPlateau reducing learning rate to 1.000000082740371e-09.\n",
            "Epoch 46/100\n",
            "66/66 [==============================] - 14s 209ms/step - loss: 1.3798 - acc: 0.2990 - val_loss: 1.4036 - val_acc: 0.2222\n",
            "\n",
            "Epoch 00046: val_loss did not improve from 1.39278\n",
            "Epoch 47/100\n",
            "66/66 [==============================] - 14s 211ms/step - loss: 1.3789 - acc: 0.3010 - val_loss: 1.4090 - val_acc: 0.2094\n",
            "\n",
            "Epoch 00047: val_loss did not improve from 1.39278\n"
          ],
          "name": "stdout"
        },
        {
          "output_type": "execute_result",
          "data": {
            "text/plain": [
              "<keras.callbacks.History at 0x7fa2a6475470>"
            ]
          },
          "metadata": {
            "tags": []
          },
          "execution_count": 62
        }
      ]
    },
    {
      "metadata": {
        "id": "xbQ5M3uaoRE-",
        "colab_type": "code",
        "colab": {}
      },
      "cell_type": "code",
      "source": [
        "model_json = model.to_json()\n",
        "with open(\"model_conv.json\", \"w\") as json_file:\n",
        "  json_file.write(model_json)\n",
        "# serialize weights to HDF5\n",
        "model.save_weights(\"model_conv.h5\")"
      ],
      "execution_count": 0,
      "outputs": []
    }
  ]
}