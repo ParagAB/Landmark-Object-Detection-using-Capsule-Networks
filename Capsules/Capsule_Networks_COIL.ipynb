{
  "nbformat": 4,
  "nbformat_minor": 0,
  "metadata": {
    "colab": {
      "name": "Capsule Networks COIL.ipynb",
      "version": "0.3.2",
      "provenance": [],
      "collapsed_sections": []
    },
    "kernelspec": {
      "name": "python3",
      "display_name": "Python 3"
    },
    "accelerator": "GPU"
  },
  "cells": [
    {
      "metadata": {
        "id": "BJtpcSlkWHpA",
        "colab_type": "text"
      },
      "cell_type": "markdown",
      "source": [
        "## Implementation of Capsule Networks\n",
        "Dataset- COIL 100"
      ]
    },
    {
      "metadata": {
        "id": "033edtAqF3tJ",
        "colab_type": "code",
        "outputId": "77ef6732-c258-438b-bcdb-84d6cac60b32",
        "colab": {
          "base_uri": "https://localhost:8080/",
          "height": 339
        }
      },
      "cell_type": "code",
      "source": [
        "!pip install pydrive"
      ],
      "execution_count": 0,
      "outputs": [
        {
          "output_type": "stream",
          "text": [
            "Collecting pydrive\n",
            "\u001b[?25l  Downloading https://files.pythonhosted.org/packages/52/e0/0e64788e5dd58ce2d6934549676243dc69d982f198524be9b99e9c2a4fd5/PyDrive-1.3.1.tar.gz (987kB)\n",
            "\r\u001b[K    1% |▎                               | 10kB 21.5MB/s eta 0:00:01\r\u001b[K    2% |▋                               | 20kB 6.1MB/s eta 0:00:01\r\u001b[K    3% |█                               | 30kB 8.6MB/s eta 0:00:01\r\u001b[K    4% |█▎                              | 40kB 5.6MB/s eta 0:00:01\r\u001b[K    5% |█▋                              | 51kB 6.8MB/s eta 0:00:01\r\u001b[K    6% |██                              | 61kB 8.0MB/s eta 0:00:01\r\u001b[K    7% |██▎                             | 71kB 9.0MB/s eta 0:00:01\r\u001b[K    8% |██▋                             | 81kB 10.1MB/s eta 0:00:01\r\u001b[K    9% |███                             | 92kB 11.1MB/s eta 0:00:01\r\u001b[K    10% |███▎                            | 102kB 9.0MB/s eta 0:00:01\r\u001b[K    11% |███▋                            | 112kB 9.2MB/s eta 0:00:01\r\u001b[K    12% |████                            | 122kB 12.1MB/s eta 0:00:01\r\u001b[K    13% |████▎                           | 133kB 12.1MB/s eta 0:00:01\r\u001b[K    14% |████▋                           | 143kB 21.2MB/s eta 0:00:01\r\u001b[K    15% |█████                           | 153kB 21.5MB/s eta 0:00:01\r\u001b[K    16% |█████▎                          | 163kB 21.5MB/s eta 0:00:01\r\u001b[K    17% |█████▋                          | 174kB 21.7MB/s eta 0:00:01\r\u001b[K    18% |██████                          | 184kB 21.8MB/s eta 0:00:01\r\u001b[K    19% |██████▎                         | 194kB 22.0MB/s eta 0:00:01\r\u001b[K    20% |██████▋                         | 204kB 52.7MB/s eta 0:00:01\r\u001b[K    21% |███████                         | 215kB 28.0MB/s eta 0:00:01\r\u001b[K    22% |███████▎                        | 225kB 28.2MB/s eta 0:00:01\r\u001b[K    23% |███████▋                        | 235kB 28.9MB/s eta 0:00:01\r\u001b[K    24% |████████                        | 245kB 28.6MB/s eta 0:00:01\r\u001b[K    25% |████████▎                       | 256kB 28.4MB/s eta 0:00:01\r\u001b[K    26% |████████▋                       | 266kB 25.1MB/s eta 0:00:01\r\u001b[K    27% |█████████                       | 276kB 25.2MB/s eta 0:00:01\r\u001b[K    29% |█████████▎                      | 286kB 25.1MB/s eta 0:00:01\r\u001b[K    30% |█████████▋                      | 296kB 24.9MB/s eta 0:00:01\r\u001b[K    31% |██████████                      | 307kB 26.6MB/s eta 0:00:01\r\u001b[K    32% |██████████▎                     | 317kB 49.5MB/s eta 0:00:01\r\u001b[K    33% |██████████▋                     | 327kB 48.7MB/s eta 0:00:01\r\u001b[K    34% |███████████                     | 337kB 49.1MB/s eta 0:00:01\r\u001b[K    35% |███████████▎                    | 348kB 45.4MB/s eta 0:00:01\r\u001b[K    36% |███████████▋                    | 358kB 45.0MB/s eta 0:00:01\r\u001b[K    37% |████████████                    | 368kB 56.5MB/s eta 0:00:01\r\u001b[K    38% |████████████▎                   | 378kB 58.2MB/s eta 0:00:01\r\u001b[K    39% |████████████▋                   | 389kB 59.5MB/s eta 0:00:01\r\u001b[K    40% |█████████████                   | 399kB 43.7MB/s eta 0:00:01\r\u001b[K    41% |█████████████▎                  | 409kB 41.7MB/s eta 0:00:01\r\u001b[K    42% |█████████████▋                  | 419kB 41.8MB/s eta 0:00:01\r\u001b[K    43% |██████████████                  | 430kB 42.2MB/s eta 0:00:01\r\u001b[K    44% |██████████████▎                 | 440kB 40.5MB/s eta 0:00:01\r\u001b[K    45% |██████████████▋                 | 450kB 39.9MB/s eta 0:00:01\r\u001b[K    46% |███████████████                 | 460kB 40.1MB/s eta 0:00:01\r\u001b[K    47% |███████████████▎                | 471kB 40.3MB/s eta 0:00:01\r\u001b[K    48% |███████████████▋                | 481kB 40.4MB/s eta 0:00:01\r\u001b[K    49% |████████████████                | 491kB 40.1MB/s eta 0:00:01\r\u001b[K    50% |████████████████▎               | 501kB 53.7MB/s eta 0:00:01\r\u001b[K    51% |████████████████▋               | 512kB 52.3MB/s eta 0:00:01\r\u001b[K    52% |█████████████████               | 522kB 52.5MB/s eta 0:00:01\r\u001b[K    53% |█████████████████▎              | 532kB 52.0MB/s eta 0:00:01\r\u001b[K    54% |█████████████████▋              | 542kB 54.7MB/s eta 0:00:01\r\u001b[K    55% |██████████████████              | 552kB 63.3MB/s eta 0:00:01\r\u001b[K    57% |██████████████████▎             | 563kB 63.3MB/s eta 0:00:01\r\u001b[K    58% |██████████████████▋             | 573kB 60.4MB/s eta 0:00:01\r\u001b[K    59% |███████████████████             | 583kB 60.0MB/s eta 0:00:01\r\u001b[K    60% |███████████████████▎            | 593kB 60.4MB/s eta 0:00:01\r\u001b[K    61% |███████████████████▋            | 604kB 60.8MB/s eta 0:00:01\r\u001b[K    62% |████████████████████            | 614kB 66.4MB/s eta 0:00:01\r\u001b[K    63% |████████████████████▎           | 624kB 62.8MB/s eta 0:00:01\r\u001b[K    64% |████████████████████▋           | 634kB 60.7MB/s eta 0:00:01\r\u001b[K    65% |█████████████████████           | 645kB 60.5MB/s eta 0:00:01\r\u001b[K    66% |█████████████████████▎          | 655kB 60.0MB/s eta 0:00:01\r\u001b[K    67% |█████████████████████▋          | 665kB 46.8MB/s eta 0:00:01\r\u001b[K    68% |██████████████████████          | 675kB 48.0MB/s eta 0:00:01\r\u001b[K    69% |██████████████████████▎         | 686kB 48.6MB/s eta 0:00:01\r\u001b[K    70% |██████████████████████▋         | 696kB 49.0MB/s eta 0:00:01\r\u001b[K    71% |███████████████████████         | 706kB 49.0MB/s eta 0:00:01\r\u001b[K    72% |███████████████████████▎        | 716kB 50.0MB/s eta 0:00:01\r\u001b[K    73% |███████████████████████▋        | 727kB 52.4MB/s eta 0:00:01\r\u001b[K    74% |████████████████████████        | 737kB 53.7MB/s eta 0:00:01\r\u001b[K    75% |████████████████████████▎       | 747kB 54.3MB/s eta 0:00:01\r\u001b[K    76% |████████████████████████▋       | 757kB 54.8MB/s eta 0:00:01\r\u001b[K    77% |████████████████████████▉       | 768kB 75.8MB/s eta 0:00:01\r\u001b[K    78% |█████████████████████████▏      | 778kB 76.1MB/s eta 0:00:01\r\u001b[K    79% |█████████████████████████▌      | 788kB 72.5MB/s eta 0:00:01\r\u001b[K    80% |█████████████████████████▉      | 798kB 70.7MB/s eta 0:00:01\r\u001b[K    81% |██████████████████████████▏     | 808kB 69.3MB/s eta 0:00:01\r\u001b[K    82% |██████████████████████████▌     | 819kB 67.6MB/s eta 0:00:01\r\u001b[K    83% |██████████████████████████▉     | 829kB 68.2MB/s eta 0:00:01\r\u001b[K    85% |███████████████████████████▏    | 839kB 69.7MB/s eta 0:00:01\r\u001b[K    86% |███████████████████████████▌    | 849kB 68.2MB/s eta 0:00:01\r\u001b[K    87% |███████████████████████████▉    | 860kB 60.4MB/s eta 0:00:01\r\u001b[K    88% |████████████████████████████▏   | 870kB 59.2MB/s eta 0:00:01\r\u001b[K    89% |████████████████████████████▌   | 880kB 60.4MB/s eta 0:00:01\r\u001b[K    90% |████████████████████████████▉   | 890kB 62.9MB/s eta 0:00:01\r\u001b[K    91% |█████████████████████████████▏  | 901kB 64.2MB/s eta 0:00:01\r\u001b[K    92% |█████████████████████████████▌  | 911kB 65.4MB/s eta 0:00:01\r\u001b[K    93% |█████████████████████████████▉  | 921kB 65.0MB/s eta 0:00:01\r\u001b[K    94% |██████████████████████████████▏ | 931kB 65.1MB/s eta 0:00:01\r\u001b[K    95% |██████████████████████████████▌ | 942kB 63.6MB/s eta 0:00:01\r\u001b[K    96% |██████████████████████████████▉ | 952kB 64.1MB/s eta 0:00:01\r\u001b[K    97% |███████████████████████████████▏| 962kB 73.0MB/s eta 0:00:01\r\u001b[K    98% |███████████████████████████████▌| 972kB 74.5MB/s eta 0:00:01\r\u001b[K    99% |███████████████████████████████▉| 983kB 72.4MB/s eta 0:00:01\r\u001b[K    100% |████████████████████████████████| 993kB 25.5MB/s \n",
            "\u001b[?25hRequirement already satisfied: google-api-python-client>=1.2 in /usr/local/lib/python3.6/dist-packages (from pydrive) (1.6.7)\n",
            "Requirement already satisfied: oauth2client>=4.0.0 in /usr/local/lib/python3.6/dist-packages (from pydrive) (4.1.3)\n",
            "Requirement already satisfied: PyYAML>=3.0 in /usr/local/lib/python3.6/dist-packages (from pydrive) (3.13)\n",
            "Requirement already satisfied: six<2dev,>=1.6.1 in /usr/local/lib/python3.6/dist-packages (from google-api-python-client>=1.2->pydrive) (1.11.0)\n",
            "Requirement already satisfied: httplib2<1dev,>=0.9.2 in /usr/local/lib/python3.6/dist-packages (from google-api-python-client>=1.2->pydrive) (0.11.3)\n",
            "Requirement already satisfied: uritemplate<4dev,>=3.0.0 in /usr/local/lib/python3.6/dist-packages (from google-api-python-client>=1.2->pydrive) (3.0.0)\n",
            "Requirement already satisfied: rsa>=3.1.4 in /usr/local/lib/python3.6/dist-packages (from oauth2client>=4.0.0->pydrive) (4.0)\n",
            "Requirement already satisfied: pyasn1-modules>=0.0.5 in /usr/local/lib/python3.6/dist-packages (from oauth2client>=4.0.0->pydrive) (0.2.4)\n",
            "Requirement already satisfied: pyasn1>=0.1.7 in /usr/local/lib/python3.6/dist-packages (from oauth2client>=4.0.0->pydrive) (0.4.5)\n",
            "Building wheels for collected packages: pydrive\n",
            "  Building wheel for pydrive (setup.py) ... \u001b[?25ldone\n",
            "\u001b[?25h  Stored in directory: /root/.cache/pip/wheels/fa/d2/9a/d3b6b506c2da98289e5d417215ce34b696db856643bad779f4\n",
            "Successfully built pydrive\n",
            "Installing collected packages: pydrive\n",
            "Successfully installed pydrive-1.3.1\n"
          ],
          "name": "stdout"
        }
      ]
    },
    {
      "metadata": {
        "id": "wN5xx5-QSrfL",
        "colab_type": "code",
        "colab": {}
      },
      "cell_type": "code",
      "source": [
        "from __future__ import print_function\n",
        "from keras import backend as K\n",
        "from keras.layers import Layer\n",
        "from keras import activations,optimizers\n",
        "from keras import utils\n",
        "from keras.datasets import cifar10\n",
        "from keras.models import Model\n",
        "from keras.layers import *\n",
        "from keras.preprocessing.image import ImageDataGenerator\n",
        "\n",
        "#--------------linear algebra, data processing----------#\n",
        "import numpy as np \n",
        "import pandas as pd\n",
        "import glob,string\n",
        "import codecs\n",
        "from tqdm import tqdm\n",
        "\n",
        "#--------------Google authentication--------------------#\n",
        "from pydrive.auth import GoogleAuth\n",
        "from pydrive.drive import GoogleDrive\n",
        "from google.colab import auth\n",
        "import tensorflow as tf\n",
        "from oauth2client.client import GoogleCredentials"
      ],
      "execution_count": 0,
      "outputs": []
    },
    {
      "metadata": {
        "id": "8obTvmetbNNV",
        "colab_type": "text"
      },
      "cell_type": "markdown",
      "source": [
        "### Google authentication\n",
        "* fetch the dataset from google drive \n",
        "* unzip the extracted file "
      ]
    },
    {
      "metadata": {
        "id": "gMhgc2YPPvpX",
        "colab_type": "code",
        "colab": {}
      },
      "cell_type": "code",
      "source": [
        "\n",
        "\n",
        "# 1. Authenticate and create the PyDrive client.\n",
        "auth.authenticate_user()\n",
        "gauth = GoogleAuth()\n",
        "gauth.credentials = GoogleCredentials.get_application_default()\n",
        "drive = GoogleDrive(gauth)"
      ],
      "execution_count": 0,
      "outputs": []
    },
    {
      "metadata": {
        "id": "1lOHsTeGP5wm",
        "colab_type": "code",
        "colab": {}
      },
      "cell_type": "code",
      "source": [
        "zip_file = drive.CreateFile({'id': '1SVo_UonxSflAzAqWQhqUrJFPLvyTc3vA'})\n",
        "zip_file.GetContentFile('coil-100.zip')"
      ],
      "execution_count": 0,
      "outputs": []
    },
    {
      "metadata": {
        "id": "3w48Lb1vQ0z8",
        "colab_type": "code",
        "colab": {}
      },
      "cell_type": "code",
      "source": [
        "!unzip 'coil-100.zip'"
      ],
      "execution_count": 0,
      "outputs": []
    },
    {
      "metadata": {
        "id": "nOXMS3HiQyUs",
        "colab_type": "code",
        "colab": {}
      },
      "cell_type": "code",
      "source": [
        "path = './coil-100/*.png'\n",
        "#list files\n",
        "files=glob.glob(path)"
      ],
      "execution_count": 0,
      "outputs": []
    },
    {
      "metadata": {
        "id": "F6UgtWP-bYP7",
        "colab_type": "text"
      },
      "cell_type": "markdown",
      "source": [
        "## Data processing and visualization"
      ]
    },
    {
      "metadata": {
        "id": "1ws84S7xTDWQ",
        "colab_type": "code",
        "colab": {}
      },
      "cell_type": "code",
      "source": [
        "def contructDataframe(file_list):\n",
        "    data=[]\n",
        "    for file in tqdm(file_list):\n",
        "        data.append((file,file.split(\"/\")[-1].split(\"__\")[0]))\n",
        "    return pd.DataFrame(data,columns=['path','label'])"
      ],
      "execution_count": 0,
      "outputs": []
    },
    {
      "metadata": {
        "id": "PVQ2KVhFTIvB",
        "colab_type": "code",
        "outputId": "7509366a-3773-4578-d212-94c033174e1e",
        "colab": {
          "base_uri": "https://localhost:8080/",
          "height": 34
        }
      },
      "cell_type": "code",
      "source": [
        "df=contructDataframe(files)"
      ],
      "execution_count": 0,
      "outputs": [
        {
          "output_type": "stream",
          "text": [
            "100%|██████████| 7200/7200 [00:00<00:00, 416825.24it/s]\n"
          ],
          "name": "stderr"
        }
      ]
    },
    {
      "metadata": {
        "id": "RDIbLdodTN4b",
        "colab_type": "code",
        "outputId": "ac084d17-adf8-4da2-f9e0-18a966b16e77",
        "colab": {
          "base_uri": "https://localhost:8080/",
          "height": 218
        }
      },
      "cell_type": "code",
      "source": [
        "print(df.head())\n",
        "print(df.tail())"
      ],
      "execution_count": 0,
      "outputs": [
        {
          "output_type": "stream",
          "text": [
            "                        path   label\n",
            "0  ./coil-100/obj94__220.png   obj94\n",
            "1   ./coil-100/obj66__75.png   obj66\n",
            "2  ./coil-100/obj100__45.png  obj100\n",
            "3  ./coil-100/obj59__315.png   obj59\n",
            "4  ./coil-100/obj80__315.png   obj80\n",
            "                           path  label\n",
            "7195   ./coil-100/obj17__15.png  obj17\n",
            "7196   ./coil-100/obj9__110.png   obj9\n",
            "7197   ./coil-100/obj28__30.png  obj28\n",
            "7198   ./coil-100/obj67__15.png  obj67\n",
            "7199  ./coil-100/obj51__175.png  obj51\n"
          ],
          "name": "stdout"
        }
      ]
    },
    {
      "metadata": {
        "id": "-UTrU_UXVGP0",
        "colab_type": "code",
        "colab": {}
      },
      "cell_type": "code",
      "source": [
        "from sklearn.model_selection import train_test_split\n",
        "X_train, X_test, y_train, y_test = train_test_split(df.path, df.label, test_size=0.20,random_state=0,stratify= df.label)"
      ],
      "execution_count": 0,
      "outputs": []
    },
    {
      "metadata": {
        "id": "68a8eiStVSfz",
        "colab_type": "code",
        "outputId": "c0ebaf02-085a-4bda-d937-b634b03c3ffc",
        "colab": {
          "base_uri": "https://localhost:8080/",
          "height": 50
        }
      },
      "cell_type": "code",
      "source": [
        "from keras.preprocessing.image import load_img,img_to_array\n",
        "import cv2\n",
        "X_train=[img_to_array(cv2.imread(file).astype(\"float\")/255.0) for file in tqdm(X_train.values)]"
      ],
      "execution_count": 0,
      "outputs": [
        {
          "output_type": "stream",
          "text": [
            "Using TensorFlow backend.\n",
            "100%|██████████| 5760/5760 [00:05<00:00, 998.13it/s] \n"
          ],
          "name": "stderr"
        }
      ]
    },
    {
      "metadata": {
        "id": "9ecj6OdDVcM4",
        "colab_type": "code",
        "outputId": "a1386733-feab-4e0f-dee2-93c6f3e4b3ea",
        "colab": {
          "base_uri": "https://localhost:8080/",
          "height": 34
        }
      },
      "cell_type": "code",
      "source": [
        "X_test=[img_to_array(cv2.imread(file).astype(\"float\")/255.0) for file in tqdm(X_test.values)]"
      ],
      "execution_count": 0,
      "outputs": [
        {
          "output_type": "stream",
          "text": [
            "100%|██████████| 1440/1440 [00:01<00:00, 992.70it/s]\n"
          ],
          "name": "stderr"
        }
      ]
    },
    {
      "metadata": {
        "id": "GfVo9AWWVets",
        "colab_type": "code",
        "colab": {}
      },
      "cell_type": "code",
      "source": [
        "from sklearn.preprocessing import LabelBinarizer\n",
        "encoder = LabelBinarizer()\n",
        "y_train_categorical=encoder.fit_transform(y_train.values.reshape(-1, 1))\n",
        "y_test_categorical=encoder.transform(y_test.values.reshape(-1, 1))"
      ],
      "execution_count": 0,
      "outputs": []
    },
    {
      "metadata": {
        "id": "CMIxTv0STpAe",
        "colab_type": "code",
        "outputId": "cea907e8-a737-4787-a898-00e86f9db0f9",
        "colab": {
          "base_uri": "https://localhost:8080/",
          "height": 269
        }
      },
      "cell_type": "code",
      "source": [
        "import matplotlib.pyplot as plt\n",
        "img = X_train[49]\n",
        "plt.imshow(img)\n",
        "plt.show()"
      ],
      "execution_count": 0,
      "outputs": [
        {
          "output_type": "display_data",
          "data": {
            "image/png": "[encoded data removed]",
            "text/plain": [
              "<Figure size 432x288 with 1 Axes>"
            ]
          },
          "metadata": {
            "tags": []
          }
        }
      ]
    },
    {
      "metadata": {
        "id": "Ozw7WDitdKxI",
        "colab_type": "text"
      },
      "cell_type": "markdown",
      "source": [
        "## Data Augmentation\n",
        "We're implementing data augmentation feature to improve and help the model to train on larger size of database"
      ]
    },
    {
      "metadata": {
        "id": "6SXnHinkZ2X0",
        "colab_type": "code",
        "colab": {}
      },
      "cell_type": "code",
      "source": [
        "aug = ImageDataGenerator(rotation_range=30, width_shift_range=0.1,\n",
        "                         height_shift_range=0.1, shear_range=0.2, zoom_range=0.2,\n",
        "                         horizontal_flip=True, fill_mode=\"nearest\")"
      ],
      "execution_count": 0,
      "outputs": []
    },
    {
      "metadata": {
        "id": "GLnt1tW8dtCA",
        "colab_type": "text"
      },
      "cell_type": "markdown",
      "source": [
        "## Capsule Network Modeling"
      ]
    },
    {
      "metadata": {
        "id": "UDAulPr9VjGK",
        "colab_type": "code",
        "outputId": "df774e82-4d68-4934-e6ca-cc39ec397959",
        "colab": {
          "base_uri": "https://localhost:8080/",
          "height": 470
        }
      },
      "cell_type": "code",
      "source": [
        "# the squashing function.\n",
        "# we use 0.5 in stead of 1 in hinton's paper.\n",
        "# if 1, the norm of vector will be zoomed out.\n",
        "# if 0.5, the norm will be zoomed in while original norm is less than 0.5\n",
        "# and be zoomed out while original norm is greater than 0.5.\n",
        "def squash(x, axis=-1):\n",
        "    s_squared_norm = K.sum(K.square(x), axis, keepdims=True) + K.epsilon()\n",
        "    scale = K.sqrt(s_squared_norm) / (0.5 + s_squared_norm)\n",
        "    return scale * x\n",
        "\n",
        "\n",
        "# define our own softmax function instead of K.softmax\n",
        "# because K.softmax can not specify axis.\n",
        "def softmax(x, axis=-1):\n",
        "    ex = K.exp(x - K.max(x, axis=axis, keepdims=True))\n",
        "    return ex / K.sum(ex, axis=axis, keepdims=True)\n",
        "\n",
        "\n",
        "# define the margin loss like hinge loss\n",
        "def margin_loss(y_true, y_pred):\n",
        "    lamb, margin = 0.5, 0.1\n",
        "    return K.sum(y_true * K.square(K.relu(1 - margin - y_pred)) + lamb * (\n",
        "        1 - y_true) * K.square(K.relu(y_pred - margin)), axis=-1)\n",
        "\n",
        "\n",
        "class Capsule(Layer):\n",
        "    \"\"\"A Capsule Implement with Pure Keras\n",
        "    There are two vesions of Capsule.\n",
        "    One is like dense layer (for the fixed-shape input),\n",
        "    and the other is like timedistributed dense (for various length input).\n",
        "\n",
        "    The input shape of Capsule must be (batch_size,\n",
        "                                        input_num_capsule,\n",
        "                                        input_dim_capsule\n",
        "                                       )\n",
        "    and the output shape is (batch_size,\n",
        "                             num_capsule,\n",
        "                             dim_capsule\n",
        "                            )\n",
        "\n",
        "    Capsule Implement is from https://github.com/bojone/Capsule/\n",
        "    Capsule Paper: https://arxiv.org/abs/1710.09829\n",
        "    \"\"\"\n",
        "\n",
        "    def __init__(self,\n",
        "                 num_capsule,\n",
        "                 dim_capsule,\n",
        "                 routings=3,\n",
        "                 share_weights=True,\n",
        "                 activation='squash',\n",
        "                 **kwargs):\n",
        "        super(Capsule, self).__init__(**kwargs)\n",
        "        self.num_capsule = num_capsule\n",
        "        self.dim_capsule = dim_capsule\n",
        "        self.routings = routings\n",
        "        self.share_weights = share_weights\n",
        "        if activation == 'squash':\n",
        "            self.activation = squash\n",
        "        else:\n",
        "            self.activation = activations.get(activation)\n",
        "\n",
        "    def build(self, input_shape):\n",
        "        input_dim_capsule = input_shape[-1]\n",
        "        if self.share_weights:\n",
        "            self.kernel = self.add_weight(\n",
        "                name='capsule_kernel',\n",
        "                shape=(1, input_dim_capsule,\n",
        "                       self.num_capsule * self.dim_capsule),\n",
        "                initializer='glorot_uniform',\n",
        "                trainable=True)\n",
        "        else:\n",
        "            input_num_capsule = input_shape[-2]\n",
        "            self.kernel = self.add_weight(\n",
        "                name='capsule_kernel',\n",
        "                shape=(input_num_capsule, input_dim_capsule,\n",
        "                       self.num_capsule * self.dim_capsule),\n",
        "                initializer='glorot_uniform',\n",
        "                trainable=True)\n",
        "\n",
        "    def call(self, inputs):\n",
        "        \"\"\"Following the routing algorithm from Hinton's paper,\n",
        "        but replace b = b + <u,v> with b = <u,v>.\n",
        "\n",
        "        This change can improve the feature representation of Capsule.\n",
        "\n",
        "        However, you can replace\n",
        "            b = K.batch_dot(outputs, hat_inputs, [2, 3])\n",
        "        with\n",
        "            b += K.batch_dot(outputs, hat_inputs, [2, 3])\n",
        "        to realize a standard routing.\n",
        "        \"\"\"\n",
        "\n",
        "        if self.share_weights:\n",
        "            hat_inputs = K.conv1d(inputs, self.kernel)\n",
        "        else:\n",
        "            hat_inputs = K.local_conv1d(inputs, self.kernel, [1], [1])\n",
        "\n",
        "        batch_size = K.shape(inputs)[0]\n",
        "        input_num_capsule = K.shape(inputs)[1]\n",
        "        hat_inputs = K.reshape(hat_inputs,\n",
        "                               (batch_size, input_num_capsule,\n",
        "                                self.num_capsule, self.dim_capsule))\n",
        "        hat_inputs = K.permute_dimensions(hat_inputs, (0, 2, 1, 3))\n",
        "\n",
        "        b = K.zeros_like(hat_inputs[:, :, :, 0])\n",
        "        for i in range(self.routings):\n",
        "            c = softmax(b, 1)\n",
        "            o = self.activation(K.batch_dot(c, hat_inputs, [2, 2]))\n",
        "            if i < self.routings - 1:\n",
        "                b = K.batch_dot(o, hat_inputs, [2, 3])\n",
        "                if K.backend() == 'theano':\n",
        "                    o = K.sum(o, axis=1)\n",
        "\n",
        "        return o\n",
        "\n",
        "    def compute_output_shape(self, input_shape):\n",
        "        return (None, self.num_capsule, self.dim_capsule)\n",
        "\n",
        "\n",
        "batch_size = 16\n",
        "num_classes = 100\n",
        "epochs = 50\n",
        "\n",
        "# A common Conv2D model\n",
        "input_image = Input(shape=(128,128, 3))\n",
        "x = Conv2D(64, (5, 5), activation='relu')(input_image)\n",
        "#x= MaxPooling2D((2,2))(x)\n",
        "x = Conv2D(128, (3, 3), activation='relu')(x)\n",
        "x = Dropout(0.2)(x)\n",
        "#x = Conv2D(256, (3, 3), activation='relu')(x)\n",
        "x = MaxPooling2D((3, 3))(x)\n",
        "#x = Conv2D(256, (3, 3), activation='relu')(x)\n",
        "x = Dropout(0.2)(x)\n",
        "#x = MaxPooling2D((2, 2))(x)\n",
        "#x = Conv2D(512, (3, 3), activation='relu')(x)\n",
        "#x = Dense((128))(x)\n",
        "x = Dense((512))(x)\n",
        "\n",
        "\"\"\"now we reshape it as (batch_size, input_num_capsule, input_dim_capsule)\n",
        "then connect a Capsule layer.\n",
        "\n",
        "the output of final model is the lengths of 10 Capsule, whose dim=16.\n",
        "\n",
        "the length of Capsule is the proba,\n",
        "so the problem becomes a 10 two-classification problem.\n",
        "\"\"\"\n",
        "\n",
        "x = Reshape((-1, 128))(x)\n",
        "capsule = Capsule(num_classes, 32, 3, True)(x)\n",
        "output = Lambda(lambda z: K.sqrt(K.sum(K.square(z), 2)))(capsule)\n",
        "model = Model(inputs=input_image, outputs=output)\n",
        "\n",
        "# we use a margin loss\n",
        "#adam = K.optimizers.Adam(lr=0.001)\n",
        "model.compile(loss=margin_loss, optimizer='adam', metrics=['accuracy'])\n",
        "model.summary()\n"
      ],
      "execution_count": 0,
      "outputs": [
        {
          "output_type": "stream",
          "text": [
            "_________________________________________________________________\n",
            "Layer (type)                 Output Shape              Param #   \n",
            "=================================================================\n",
            "input_22 (InputLayer)        (None, 128, 128, 3)       0         \n",
            "_________________________________________________________________\n",
            "conv2d_72 (Conv2D)           (None, 124, 124, 64)      4864      \n",
            "_________________________________________________________________\n",
            "conv2d_73 (Conv2D)           (None, 122, 122, 128)     73856     \n",
            "_________________________________________________________________\n",
            "dropout_35 (Dropout)         (None, 122, 122, 128)     0         \n",
            "_________________________________________________________________\n",
            "max_pooling2d_29 (MaxPooling (None, 40, 40, 128)       0         \n",
            "_________________________________________________________________\n",
            "dropout_36 (Dropout)         (None, 40, 40, 128)       0         \n",
            "_________________________________________________________________\n",
            "dense_35 (Dense)             (None, 40, 40, 512)       66048     \n",
            "_________________________________________________________________\n",
            "reshape_21 (Reshape)         (None, 6400, 128)         0         \n",
            "_________________________________________________________________\n",
            "capsule_21 (Capsule)         (None, 100, 32)           409600    \n",
            "_________________________________________________________________\n",
            "lambda_21 (Lambda)           (None, 100)               0         \n",
            "=================================================================\n",
            "Total params: 554,368\n",
            "Trainable params: 554,368\n",
            "Non-trainable params: 0\n",
            "_________________________________________________________________\n"
          ],
          "name": "stdout"
        }
      ]
    },
    {
      "metadata": {
        "id": "5I2cir1ocNiU",
        "colab_type": "code",
        "colab": {}
      },
      "cell_type": "code",
      "source": [
        "from keras.callbacks import EarlyStopping\n",
        "from keras.preprocessing.image import ImageDataGenerator\n",
        "early_stopping = EarlyStopping(monitor='val_loss', min_delta=0.01, patience=4, verbose=1)\n",
        "callbacks_list = [early_stopping]"
      ],
      "execution_count": 0,
      "outputs": []
    },
    {
      "metadata": {
        "id": "ZoEJskwPblAZ",
        "colab_type": "code",
        "colab": {}
      },
      "cell_type": "code",
      "source": [
        "X_train=np.array(X_train)\n",
        "X_test=np.array(X_test)"
      ],
      "execution_count": 0,
      "outputs": []
    },
    {
      "metadata": {
        "id": "44IGK_BMW2Nt",
        "colab_type": "code",
        "outputId": "a80727ff-9a28-4ee8-ccb9-cf8609a8b9f6",
        "colab": {
          "base_uri": "https://localhost:8080/",
          "height": 638
        }
      },
      "cell_type": "code",
      "source": [
        "# hist = model.fit(\n",
        "#         X_train,\n",
        "#         y_train_categorical,\n",
        "#         batch_size=batch_size,\n",
        "#         epochs=epochs,\n",
        "#         validation_data=(X_test, y_test_categorical),\n",
        "#         shuffle=True,)\n",
        "\n",
        "hist = model.fit_generator(aug.flow(X_train, y_train_categorical, batch_size=batch_size),steps_per_epoch=len(X_train)//batch_size,\n",
        "                           epochs=epochs,\n",
        "                           validation_data=(X_test, y_test_categorical),\n",
        "                           verbose=1,callbacks=callbacks_list)"
      ],
      "execution_count": 0,
      "outputs": [
        {
          "output_type": "stream",
          "text": [
            "Epoch 1/50\n",
            "360/360 [==============================] - 326s 904ms/step - loss: 0.6524 - acc: 0.1260 - val_loss: 0.5783 - val_acc: 0.1118\n",
            "Epoch 2/50\n",
            "360/360 [==============================] - 321s 891ms/step - loss: 0.5133 - acc: 0.3033 - val_loss: 0.5068 - val_acc: 0.2812\n",
            "Epoch 3/50\n",
            "360/360 [==============================] - 319s 885ms/step - loss: 0.4473 - acc: 0.4778 - val_loss: 0.4152 - val_acc: 0.5521\n",
            "Epoch 4/50\n",
            "360/360 [==============================] - 319s 887ms/step - loss: 0.4006 - acc: 0.6024 - val_loss: 0.4087 - val_acc: 0.5722\n",
            "Epoch 5/50\n",
            "360/360 [==============================] - 319s 886ms/step - loss: 0.3636 - acc: 0.6722 - val_loss: 0.3566 - val_acc: 0.7021\n",
            "Epoch 6/50\n",
            "360/360 [==============================] - 318s 883ms/step - loss: 0.3294 - acc: 0.7337 - val_loss: 0.3269 - val_acc: 0.7076\n",
            "Epoch 7/50\n",
            "360/360 [==============================] - 322s 893ms/step - loss: 0.3004 - acc: 0.7858 - val_loss: 0.2971 - val_acc: 0.7701\n",
            "Epoch 8/50\n",
            "360/360 [==============================] - 318s 882ms/step - loss: 0.2752 - acc: 0.8167 - val_loss: 0.2881 - val_acc: 0.7639\n",
            "Epoch 9/50\n",
            "360/360 [==============================] - 317s 882ms/step - loss: 0.2590 - acc: 0.8326 - val_loss: 0.2477 - val_acc: 0.8667\n",
            "Epoch 10/50\n",
            "360/360 [==============================] - 319s 886ms/step - loss: 0.2349 - acc: 0.8625 - val_loss: 0.2445 - val_acc: 0.8361\n",
            "Epoch 11/50\n",
            "360/360 [==============================] - 319s 886ms/step - loss: 0.2229 - acc: 0.8727 - val_loss: 0.2049 - val_acc: 0.9042\n",
            "Epoch 12/50\n",
            "360/360 [==============================] - 318s 884ms/step - loss: 0.2055 - acc: 0.8962 - val_loss: 0.2163 - val_acc: 0.9035\n",
            "Epoch 13/50\n",
            "360/360 [==============================] - 321s 891ms/step - loss: 0.2020 - acc: 0.8964 - val_loss: 0.2126 - val_acc: 0.8896\n",
            "Epoch 14/50\n",
            "360/360 [==============================] - 320s 888ms/step - loss: 0.1835 - acc: 0.9172 - val_loss: 0.1723 - val_acc: 0.9410\n",
            "Epoch 15/50\n",
            "360/360 [==============================] - 320s 889ms/step - loss: 0.1805 - acc: 0.9142 - val_loss: 0.1930 - val_acc: 0.8979\n",
            "Epoch 16/50\n",
            "360/360 [==============================] - 317s 881ms/step - loss: 0.1735 - acc: 0.9253 - val_loss: 0.1855 - val_acc: 0.9264\n",
            "Epoch 17/50\n",
            "360/360 [==============================] - 317s 881ms/step - loss: 0.1653 - acc: 0.9309 - val_loss: 0.1721 - val_acc: 0.9264\n",
            "Epoch 18/50\n",
            "360/360 [==============================] - 317s 881ms/step - loss: 0.1571 - acc: 0.9345 - val_loss: 0.1904 - val_acc: 0.9187\n",
            "Epoch 00018: early stopping\n"
          ],
          "name": "stdout"
        }
      ]
    },
    {
      "metadata": {
        "id": "3g7OqFKiXEKj",
        "colab_type": "code",
        "colab": {}
      },
      "cell_type": "code",
      "source": [
        "import matplotlib.pyplot as plt\n",
        "def plotter(trained_record):\n",
        "    # Loss Curves\n",
        "    plt.figure(figsize=[8,6])\n",
        "    plt.plot(trained_record.history['loss'],'r',linewidth=3.0)\n",
        "    plt.plot(trained_record.history['val_loss'],'b',linewidth=3.0)\n",
        "    plt.legend(['Training loss', 'Validation Loss'],fontsize=18)\n",
        "    plt.xlabel('Epochs ',fontsize=16)\n",
        "    plt.ylabel('Loss',fontsize=16)\n",
        "    plt.title('Loss Curves',fontsize=16)\n",
        "    plt.savefig('loss.png')\n",
        "    # Accuracy Curves\n",
        "    plt.figure(figsize=[8,6])\n",
        "    plt.plot(trained_record.history['acc'],'r',linewidth=3.0)\n",
        "    plt.plot(trained_record.history['val_acc'],'b',linewidth=3.0)\n",
        "    plt.legend(['Training Accuracy', 'Validation Accuracy'],fontsize=18)\n",
        "    plt.xlabel('Epochs ',fontsize=16)\n",
        "    plt.ylabel('Accuracy',fontsize=16)\n",
        "    plt.title('Accuracy Curves',fontsize=16)\n",
        "    plt.savefig('accuracy.png')"
      ],
      "execution_count": 0,
      "outputs": []
    },
    {
      "metadata": {
        "id": "TO-PiFmObH07",
        "colab_type": "code",
        "outputId": "e296ddfb-bb01-4543-f9e5-c45058a73553",
        "colab": {
          "base_uri": "https://localhost:8080/",
          "height": 806
        }
      },
      "cell_type": "code",
      "source": [
        "plotter(hist)"
      ],
      "execution_count": 0,
      "outputs": [
        {
          "output_type": "display_data",
          "data": {
            "image/png": "[encoded data removed]",
            "text/plain": [
              "<Figure size 576x432 with 1 Axes>"
            ]
          },
          "metadata": {
            "tags": []
          }
        },
        {
          "output_type": "display_data",
          "data": {
            "image/png": "[encoded data removed]",
            "text/plain": [
              "<Figure size 576x432 with 1 Axes>"
            ]
          },
          "metadata": {
            "tags": []
          }
        }
      ]
    }
  ]
}